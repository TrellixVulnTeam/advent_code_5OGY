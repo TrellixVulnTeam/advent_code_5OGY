{
 "cells": [
  {
   "cell_type": "markdown",
   "id": "saved-scholarship",
   "metadata": {},
   "source": [
    "Day 1, Part 1:\n",
    "\n",
    "Santa is trying to deliver presents in a large apartment building, but he can't find the right floor - the directions he got are a little confusing. He starts on the ground floor (floor 0) and then follows the instructions one character at a time.\n",
    "\n",
    "An opening parenthesis, (, means he should go up one floor, and a closing parenthesis, ), means he should go down one floor.\n",
    "\n",
    "The apartment building is very tall, and the basement is very deep; he will never find the top or bottom floors."
   ]
  },
  {
   "cell_type": "code",
   "execution_count": 14,
   "id": "persistent-thermal",
   "metadata": {},
   "outputs": [],
   "source": [
    "file_path = %pwd\n",
    "file_path += '/Day_1_Part_1.txt'\n",
    "data = open(file_path)\n",
    "santa = data.read()\n",
    "santa_list = []\n",
    "santa_list[::] = santa\n",
    "santa_position = 0"
   ]
  },
  {
   "cell_type": "code",
   "execution_count": 2,
   "id": "retired-finland",
   "metadata": {},
   "outputs": [
    {
     "name": "stdout",
     "output_type": "stream",
     "text": [
      "232\n"
     ]
    }
   ],
   "source": [
    "for step in santa_list:\n",
    "    if step == \"(\":\n",
    "        santa_position += 1\n",
    "    if step == \")\":\n",
    "        santa_position -= 1\n",
    "print(santa_position)"
   ]
  },
  {
   "cell_type": "markdown",
   "id": "accomplished-times",
   "metadata": {},
   "source": [
    "Day 1, Part 2:\n",
    "\n",
    "--- Part Two ---\n",
    "\n",
    "Now, given the same instructions, find the position of the first character that causes him to enter the basement (floor -1). The first character in the instructions has position 1, the second character has position 2, and so on.\n",
    "\n",
    "For example:\n",
    "\n",
    "    ) causes him to enter the basement at character position 1.\n",
    "    ()()) causes him to enter the basement at character position 5.\n",
    "\n",
    "What is the position of the character that causes Santa to first enter the basement?\n"
   ]
  },
  {
   "cell_type": "code",
   "execution_count": 19,
   "id": "recreational-tanzania",
   "metadata": {},
   "outputs": [
    {
     "name": "stdout",
     "output_type": "stream",
     "text": [
      "/home/maria/Programming/advent_code/Advent_2015\n",
      "1783\n"
     ]
    }
   ],
   "source": [
    "file_path = %pwd\n",
    "print(file_path)\n",
    "file_path += '/Day_1_Part_1.txt'\n",
    "data = open(file_path)\n",
    "santa = data.read()\n",
    "santa_list = []\n",
    "santa_list[::] = santa\n",
    "\n",
    "def santa_stepper(santa_list):\n",
    "    counter = 0\n",
    "    santa_position = 0\n",
    "    for step in santa_list:\n",
    "        if step == \"(\":\n",
    "            santa_position += 1\n",
    "        if step == \")\":\n",
    "            santa_position -= 1\n",
    "        counter += 1\n",
    "        if santa_position < 0:\n",
    "            return(counter)\n",
    "        \n",
    "steps = santa_stepper(santa_list)\n",
    "print(steps)"
   ]
  },
  {
   "cell_type": "markdown",
   "id": "rolled-deficit",
   "metadata": {},
   "source": [
    "# Day 2\n",
    "\n",
    "I was told there would be no math.\n",
    "\n",
    "The elves are running low on wrapping paper, and so they need to submit an order for more. They have a list of the dimensions (length l, width w, and height h) of each present, and only want to order exactly as much as they need.\n",
    "\n",
    "Fortunately, every present is a box (a perfect right rectangular prism), which makes calculating the required wrapping paper for each gift a little easier: find the surface area of the box, which is 2*l*w + 2*w*h + 2*h*l. The elves also need a little extra paper for each present: the area of the smallest side.\n",
    "\n",
    "For example:\n",
    "\n",
    "    A present with dimensions 2x3x4 requires 2*6 + 2*12 + 2*8 = 52 square feet of wrapping paper plus 6 square feet of slack, for a total of 58 square feet.\n",
    "    A present with dimensions 1x1x10 requires 2*1 + 2*10 + 2*10 = 42 square feet of wrapping paper plus 1 square foot of slack, for a total of 43 square feet.\n",
    "\n",
    "All numbers in the elves' list are in feet. How many total square feet of wrapping paper should they order?\n",
    "\n",
    "## Note to self - refactored solution below this one!"
   ]
  },
  {
   "cell_type": "code",
   "execution_count": 7,
   "id": "continuous-prime",
   "metadata": {},
   "outputs": [],
   "source": [
    "file_dir = %pwd\n",
    "file_dir += '/Day_2_Part_1.txt'"
   ]
  },
  {
   "cell_type": "code",
   "execution_count": 8,
   "id": "looking-glenn",
   "metadata": {},
   "outputs": [],
   "source": [
    "class Present:\n",
    "    \"\"\"A simple model of a present\"\"\"\n",
    "    def __init__(self, l, w, h):\n",
    "        l = int(l)\n",
    "        w = int(w)\n",
    "        h = int(h)\n",
    "        self.side_1 = l * w\n",
    "        self.ribbon_1 = 2*l + 2*w\n",
    "        self.side_2 = w * h\n",
    "        self.ribbon_2 = 2*w + 2*h\n",
    "        self.side_3 = h * l\n",
    "        self.ribbon_3 = 2*h + 2*l\n",
    "        self.bow = l * w * h\n",
    "        self.sides = [self.side_1, self.side_2, self.side_3]\n",
    "        self.ribbon = [self.ribbon_1, self.ribbon_2, self.ribbon_3]\n",
    "        self.slack = min(self.sides)\n",
    "        self.ribbon_bow_and_perimeter = min(self.ribbon) + self.bow\n",
    "        self.sides_total = 2 * (sum(self.sides))\n",
    "        self.sides_total += self.slack"
   ]
  },
  {
   "cell_type": "code",
   "execution_count": 9,
   "id": "martial-document",
   "metadata": {},
   "outputs": [
    {
     "name": "stdout",
     "output_type": "stream",
     "text": [
      "1598415\n",
      "3812909\n"
     ]
    }
   ],
   "source": [
    "with open(file_dir) as f:\n",
    "    presents = f.read()\n",
    "    present_list = [dimensions.split('x') for dimensions in presents.split()]\n",
    "    paper_area = 0\n",
    "    ribbon_total = 0\n",
    "    for measures in present_list:\n",
    "        this_present = Present(\n",
    "            l=int(measures[0]), w=int(measures[1]), h=int(measures[2])\n",
    "            )\n",
    "        paper_area += this_present.sides_total\n",
    "        ribbon_total += this_present.ribbon_bow_and_perimeter\n",
    "    print(paper_area)\n",
    "    print(ribbon_total)\n"
   ]
  },
  {
   "cell_type": "markdown",
   "id": "labeled-mounting",
   "metadata": {},
   "source": [
    "## Version 2, Refactored"
   ]
  },
  {
   "cell_type": "markdown",
   "id": "turkish-detective",
   "metadata": {},
   "source": [
    "I was told there would be no math.\n",
    "\n",
    "The elves are running low on wrapping paper, and so they need to submit an order for more. They have a list of the dimensions (length l, width w, and height h) of each present, and only want to order exactly as much as they need.\n",
    "\n",
    "Fortunately, every present is a box (a perfect right rectangular prism), which makes calculating the required wrapping paper for each gift a little easier: find the surface area of the box, which is 2lw + 2wh + 2hl. The elves also need a little extra paper for each present: the area of the smallest side.\n",
    "\n",
    "For example:\n",
    "\n",
    "A present with dimensions 2x3x4 requires 2*6 + 2*12 + 2*8 = 52 square feet of wrapping paper plus 6 square feet of slack, for a total of 58 square feet.\n",
    "A present with dimensions 1x1x10 requires 2*1 + 2*10 + 2*10 = 42 square feet of wrapping paper plus 1 square foot of slack, for a total of 43 square feet.\n",
    "\n",
    "All numbers in the elves' list are in feet. How many total square feet of wrapping paper should they order?"
   ]
  },
  {
   "cell_type": "code",
   "execution_count": 11,
   "id": "regular-eligibility",
   "metadata": {},
   "outputs": [],
   "source": [
    "file_dir = %pwd\n",
    "file_dir += '/Day_2_Part_1.txt'\n",
    "presents_list = open(file_dir).read()\n",
    "presents = presents_list.split()\n",
    "presents = [dimensions.split('x') for dimensions in presents]"
   ]
  },
  {
   "cell_type": "code",
   "execution_count": 12,
   "id": "expected-genealogy",
   "metadata": {},
   "outputs": [
    {
     "name": "stdout",
     "output_type": "stream",
     "text": [
      "1598415\n"
     ]
    }
   ],
   "source": [
    "def get_paper(dimensions=[]):\n",
    "    d = list(map(int, dimensions))\n",
    "    sides = [d[0]*d[1], d[1]*d[2], d[0]*d[2]]\n",
    "    slack = min(sides)\n",
    "    total = 2 * (sides[0] + sides[1] + sides[2]) + slack\n",
    "    return total\n",
    "\n",
    "present_paper = sum([get_paper(present) for present in presents])\n",
    "print(present_paper)"
   ]
  },
  {
   "cell_type": "markdown",
   "id": "partial-refund",
   "metadata": {},
   "source": [
    "# Day 3"
   ]
  },
  {
   "cell_type": "markdown",
   "id": "unique-words",
   "metadata": {},
   "source": [
    "--- Day 3: Perfectly Spherical Houses in a Vacuum ---\n",
    "\n",
    "Santa is delivering presents to an infinite two-dimensional grid of houses.\n",
    "\n",
    "He begins by delivering a present to the house at his starting location, and then an elf at the North Pole calls him via radio and tells him where to move next. Moves are always exactly one house to the north (^), south (v), east (>), or west (<). After each move, he delivers another present to the house at his new location.\n",
    "\n",
    "However, the elf back at the north pole has had a little too much eggnog, and so his directions are a little off, and Santa ends up visiting some houses more than once. How many houses receive at least one present?\n",
    "\n",
    "For example:\n",
    "\n",
    "    > delivers presents to 2 houses: one at the starting location, and one to the east.\n",
    "    ^>v< delivers presents to 4 houses in a square, including twice to the house at his starting/ending location.\n",
    "    ^v^v^v^v^v delivers a bunch of presents to some very lucky children at only 2 houses.\n",
    "    \n",
    "--- Part Two ---\n",
    "\n",
    "The next year, to speed up the process, Santa creates a robot version of himself, Robo-Santa, to deliver presents with him.\n",
    "\n",
    "Santa and Robo-Santa start at the same location (delivering two presents to the same starting house), then take turns moving based on instructions from the elf, who is eggnoggedly reading from the same script as the previous year.\n",
    "\n",
    "This year, how many houses receive at least one present?\n",
    "\n",
    "For example:\n",
    "\n",
    "    ^v delivers presents to 3 houses, because Santa goes north, and then Robo-Santa goes south.\n",
    "    ^>v< now delivers presents to 3 houses, and Santa and Robo-Santa end up back where they started.\n",
    "    ^v^v^v^v^v now delivers presents to 11 houses, with Santa going one direction and Robo-Santa going the other.\n",
    "    \n",
    "## Note to self - too lazy to retype all of the first solution, just added part two into the solution for part one, lol.\n"
   ]
  },
  {
   "cell_type": "code",
   "execution_count": 13,
   "id": "atmospheric-masters",
   "metadata": {},
   "outputs": [
    {
     "data": {
      "text/plain": [
       "2360"
      ]
     },
     "execution_count": 13,
     "metadata": {},
     "output_type": "execute_result"
    }
   ],
   "source": [
    "file_dir = %pwd\n",
    "file_dir += '/Day_3.txt'\n",
    "directions_list = open(file_dir).read().strip()\n",
    "directions = []\n",
    "directions[::] = directions_list\n",
    "\n",
    "class Santa:\n",
    "    \"\"\"A model of santa\"\"\"\n",
    "    def __init__(self):\n",
    "        self.x = 0\n",
    "        self.y = 0\n",
    "        self.visited = []\n",
    "    \n",
    "    def location(self):\n",
    "        return (self.x, self.y)\n",
    "    \n",
    "    def go_north(self):\n",
    "        self.y = self.y + 1\n",
    "    \n",
    "    def go_south(self):\n",
    "        self.y  = self.y - 1\n",
    "    \n",
    "    def go_east(self):\n",
    "        self.x += 1\n",
    "    \n",
    "    def go_west(self):\n",
    "        self.x = self.x -1\n",
    "    \n",
    "    def take_step(self, step):\n",
    "        if step == '>':\n",
    "            self.go_east()\n",
    "        elif step == \"<\":\n",
    "            self.go_west()\n",
    "        elif step == 'v':\n",
    "            self.go_south()\n",
    "        else:\n",
    "            self.go_north()\n",
    "    \n",
    "    def mark_visited(self):\n",
    "        now = self.location()\n",
    "        self.visited.append(now)\n",
    "        \n",
    "    def follow_directions(self, directions=[], start='', skip=''):\n",
    "        for direction in directions[start::skip]:\n",
    "            self.take_step(direction)\n",
    "            self.mark_visited()\n",
    "        \n",
    "santa = Santa()\n",
    "robot = Santa()\n",
    "santa.mark_visited()\n",
    "robot.mark_visited()\n",
    "santa.follow_directions(directions=directions, start=0, skip=2)\n",
    "robot.follow_directions(directions=directions, start=1, skip=2)\n",
    "houses = santa.visited + robot.visited\n",
    "unique_houses = set(houses)\n",
    "len(unique_houses)"
   ]
  },
  {
   "cell_type": "markdown",
   "id": "special-bumper",
   "metadata": {},
   "source": [
    "# Day 4 (Skipped for Now)\n",
    "\n",
    "--- Day 4: The Ideal Stocking Stuffer ---\n",
    "\n",
    "Santa needs help mining some AdventCoins (very similar to bitcoins) to use as gifts for all the economically forward-thinking little girls and boys.\n",
    "\n",
    "To do this, he needs to find MD5 hashes which, in hexadecimal, start with at least five zeroes. The input to the MD5 hash is some secret key (your puzzle input, given below) followed by a number in decimal. To mine AdventCoins, you must find Santa the lowest positive number (no leading zeroes: 1, 2, 3, ...) that produces such a hash.\n",
    "\n",
    "For example:\n",
    "\n",
    "    If your secret key is abcdef, the answer is 609043, because the MD5 hash of abcdef609043 starts with five zeroes (000001dbbfa...), and it is the lowest such number to do so.\n",
    "    If your secret key is pqrstuv, the lowest number it combines with to make an MD5 hash starting with five zeroes is 1048970; that is, the MD5 hash of pqrstuv1048970 looks like 000006136ef....\n",
    "    \n",
    "\n"
   ]
  },
  {
   "cell_type": "markdown",
   "id": "native-repository",
   "metadata": {},
   "source": [
    "# Day 5\n",
    "\n",
    "--- Day 5: Doesn't He Have Intern-Elves For This? ---\n",
    "\n",
    "Santa needs help figuring out which strings in his text file are naughty or nice.\n",
    "\n",
    "A nice string is one with all of the following properties:\n",
    "\n",
    "    It contains at least three vowels (aeiou only), like aei, xazegov, or aeiouaeiouaeiou.\n",
    "    It contains at least one letter that appears twice in a row, like xx, abcdde (dd), or aabbccdd (aa, bb, cc, or dd).\n",
    "    It does not contain the strings ab, cd, pq, or xy, even if they are part of one of the other requirements.\n",
    "\n",
    "For example:\n",
    "\n",
    "    ugknbfddgicrmopn is nice because it has at least three vowels (u...i...o...), a double letter (...dd...), and none of the disallowed substrings.\n",
    "    aaa is nice because it has at least three vowels and a double letter, even though the letters used by different rules overlap.\n",
    "    jchzalrnumimnmhp is naughty because it has no double letter.\n",
    "    haegwjzuvuyypxyu is naughty because it contains the string xy.\n",
    "    dvszwmarrgswjxmb is naughty because it contains only one vowel.\n",
    "\n",
    "How many strings are nice?\n"
   ]
  },
  {
   "cell_type": "code",
   "execution_count": 33,
   "id": "naughty-cathedral",
   "metadata": {},
   "outputs": [
    {
     "name": "stdout",
     "output_type": "stream",
     "text": [
      "238\n"
     ]
    }
   ],
   "source": [
    "file_dir = %pwd\n",
    "file_dir += '/Day5.txt'\n",
    "strings = open(file_dir).read().splitlines()\n",
    "\n",
    "def check_vowels_nice(string):\n",
    "    vowel_count = 0\n",
    "    vowels = ['a','e','i','o','u']\n",
    "    characters = []\n",
    "    characters[::] = string\n",
    "    for character in characters:\n",
    "        if character in vowels:\n",
    "            vowel_count += 1\n",
    "    if vowel_count >= 3:\n",
    "        return True\n",
    "    else:\n",
    "        return False\n",
    "    \n",
    "def check_doubles_nice(string):\n",
    "    \"\"\"Check if a character is doubled.\"\"\"\n",
    "    characters = []\n",
    "    characters[::] = string\n",
    "    for character in characters:\n",
    "        if f\"{character}{character}\" in string:\n",
    "            return True\n",
    "        else:\n",
    "            continue\n",
    "    return False\n",
    "\n",
    "def check_no_naughties(string):\n",
    "    \"\"\"Check if a string is not naughty.\"\"\"\n",
    "    naughty_strings = ['ab', 'cd', 'pq', 'xy']\n",
    "    for naughty in naughty_strings:\n",
    "        if naughty in string:\n",
    "            return False\n",
    "    else:\n",
    "        return True\n",
    "\n",
    "def check_string(string):\n",
    "    first_check = check_vowels_nice(string)\n",
    "    second_check = check_doubles_nice(string)\n",
    "    third_check = check_no_naughties(string)\n",
    "    checks = [first_check, second_check, third_check]\n",
    "    if False not in checks:\n",
    "        return True\n",
    "    \n",
    "def check_all_strings(string_list):\n",
    "    good_strings = []\n",
    "    for string in string_list:\n",
    "        response = check_string(string)\n",
    "        if response == True:\n",
    "            good_strings.append(string)\n",
    "    return len(good_strings)\n",
    "\n",
    "task_1 = check_all_strings(strings)\n",
    "print(task_1)\n"
   ]
  },
  {
   "cell_type": "markdown",
   "id": "spiritual-paint",
   "metadata": {},
   "source": [
    "--- Part Two ---\n",
    "\n",
    "Realizing the error of his ways, Santa has switched to a better model of determining whether a string is naughty or nice. None of the old rules apply, as they are all clearly ridiculous.\n",
    "\n",
    "Now, a nice string is one with all of the following properties:\n",
    "\n",
    "    It contains a pair of any two letters that appears at least twice in the string without overlapping, like xyxy (xy) or aabcdefgaa (aa), but not like aaa (aa, but it overlaps).\n",
    "    It contains at least one letter which repeats with exactly one letter between them, like xyx, abcdefeghi (efe), or even aaa.\n",
    "\n",
    "For example:\n",
    "\n",
    "    qjhvhtzxzqqjkmpb is nice because is has a pair that appears twice (qj) and a letter that repeats with exactly one letter between them (zxz).\n",
    "    xxyxx is nice because it has a pair that appears twice and a letter that repeats with one between, even though the letters used by each rule overlap.\n",
    "    uurcxstgmygtbstg is naughty because it has a pair (tg) but no repeat with a single letter between them.\n",
    "    ieodomkazucvgmuy is naughty because it has a repeating letter with one between (odo), but no pair that appears twice.\n",
    "\n",
    "How many strings are nice under these new rules?\n"
   ]
  },
  {
   "cell_type": "code",
   "execution_count": 34,
   "id": "regular-lancaster",
   "metadata": {},
   "outputs": [
    {
     "name": "stdout",
     "output_type": "stream",
     "text": [
      "zgsnvdmlfuplrubt\n"
     ]
    }
   ],
   "source": [
    "test_string = strings[0]\n",
    "print(test_string)"
   ]
  },
  {
   "cell_type": "code",
   "execution_count": 45,
   "id": "addressed-following",
   "metadata": {},
   "outputs": [
    {
     "name": "stdout",
     "output_type": "stream",
     "text": [
      "{0: 'z', 1: 'g', 2: 's', 3: 'n', 4: 'v', 5: 'd', 6: 'm', 7: 'l', 8: 'f', 9: 'u', 10: 'p', 11: 'l', 12: 'r', 13: 'u', 14: 'b', 15: 't'}\n"
     ]
    },
    {
     "ename": "AttributeError",
     "evalue": "'int' object has no attribute 'value'",
     "output_type": "error",
     "traceback": [
      "\u001b[0;31m---------------------------------------------------------------------------\u001b[0m",
      "\u001b[0;31mAttributeError\u001b[0m                            Traceback (most recent call last)",
      "\u001b[0;32m<ipython-input-45-f71742203cc6>\u001b[0m in \u001b[0;36m<module>\u001b[0;34m\u001b[0m\n\u001b[1;32m      9\u001b[0m         \u001b[0mprint\u001b[0m\u001b[0;34m(\u001b[0m\u001b[0mletter_pair\u001b[0m\u001b[0;34m)\u001b[0m\u001b[0;34m\u001b[0m\u001b[0;34m\u001b[0m\u001b[0m\n\u001b[1;32m     10\u001b[0m \u001b[0;34m\u001b[0m\u001b[0m\n\u001b[0;32m---> 11\u001b[0;31m \u001b[0mcheck\u001b[0m \u001b[0;34m=\u001b[0m \u001b[0mtwo_pairs\u001b[0m\u001b[0;34m(\u001b[0m\u001b[0;34m'aaaaabbbbcccc'\u001b[0m\u001b[0;34m)\u001b[0m\u001b[0;34m\u001b[0m\u001b[0;34m\u001b[0m\u001b[0m\n\u001b[0m",
      "\u001b[0;32m<ipython-input-45-f71742203cc6>\u001b[0m in \u001b[0;36mtwo_pairs\u001b[0;34m(string)\u001b[0m\n\u001b[1;32m      5\u001b[0m         \u001b[0mletter_pair_first\u001b[0m \u001b[0;34m=\u001b[0m \u001b[0mcharacter\u001b[0m\u001b[0;34m\u001b[0m\u001b[0;34m\u001b[0m\u001b[0m\n\u001b[1;32m      6\u001b[0m         \u001b[0mletter_pair_second_place\u001b[0m \u001b[0;34m=\u001b[0m \u001b[0mplace\u001b[0m \u001b[0;34m+\u001b[0m \u001b[0;36m1\u001b[0m\u001b[0;34m\u001b[0m\u001b[0;34m\u001b[0m\u001b[0m\n\u001b[0;32m----> 7\u001b[0;31m         \u001b[0mletter_pair_second\u001b[0m \u001b[0;34m=\u001b[0m \u001b[0mletter_pair_second_place\u001b[0m\u001b[0;34m.\u001b[0m\u001b[0mvalue\u001b[0m\u001b[0;34m(\u001b[0m\u001b[0;34m)\u001b[0m\u001b[0;34m\u001b[0m\u001b[0;34m\u001b[0m\u001b[0m\n\u001b[0m\u001b[1;32m      8\u001b[0m         \u001b[0mletter_pair\u001b[0m \u001b[0;34m=\u001b[0m \u001b[0;34mf\"{letter_pair_first}+{letter_pair_second}\"\u001b[0m\u001b[0;34m\u001b[0m\u001b[0;34m\u001b[0m\u001b[0m\n\u001b[1;32m      9\u001b[0m         \u001b[0mprint\u001b[0m\u001b[0;34m(\u001b[0m\u001b[0mletter_pair\u001b[0m\u001b[0;34m)\u001b[0m\u001b[0;34m\u001b[0m\u001b[0;34m\u001b[0m\u001b[0m\n",
      "\u001b[0;31mAttributeError\u001b[0m: 'int' object has no attribute 'value'"
     ]
    }
   ],
   "source": [
    "def two_pairs(string):\n",
    "    string_dict = dict(enumerate(test_string))\n",
    "    print(string_dict)\n",
    "    for place, character in string_dict.items():\n",
    "        letter_pair_first = character\n",
    "        letter_pair_second_place = place + 1\n",
    "        letter_pair_second = letter_pair_second_place.value()\n",
    "        letter_pair = f\"{letter_pair_first}+{letter_pair_second}\"\n",
    "        print(letter_pair)\n",
    "\n",
    "check = two_pairs('aaaaabbbbcccc')\n",
    "\n",
    "# I think there's an easier way to solve this using .index() or using the index/value of the string\n",
    "# character generally - take a quick break and come back to this!\n"
   ]
  },
  {
   "cell_type": "code",
   "execution_count": null,
   "id": "encouraging-shower",
   "metadata": {},
   "outputs": [],
   "source": []
  }
 ],
 "metadata": {
  "kernelspec": {
   "display_name": "Python 3",
   "language": "python",
   "name": "python3"
  },
  "language_info": {
   "codemirror_mode": {
    "name": "ipython",
    "version": 3
   },
   "file_extension": ".py",
   "mimetype": "text/x-python",
   "name": "python",
   "nbconvert_exporter": "python",
   "pygments_lexer": "ipython3",
   "version": "3.8.5"
  }
 },
 "nbformat": 4,
 "nbformat_minor": 5
}
