{
 "cells": [
  {
   "cell_type": "markdown",
   "id": "regulation-paris",
   "metadata": {},
   "source": [
    "# Advent of Code 2020\n",
    "\n",
    "### Day 1: Report Repair\n",
    "\n",
    "Task: Find the two entries that sum to 2020 and then multiply those two numbers together.\n",
    "\n",
    "First step: Get the file of inputs and read into memory."
   ]
  },
  {
   "cell_type": "code",
   "execution_count": 35,
   "id": "charged-percentage",
   "metadata": {},
   "outputs": [],
   "source": [
    "#get current file path\n",
    "file_path = %pwd\n",
    "file_path += \"/Day_1_Inputs.txt\"\n",
    "\n",
    "#open file and read into memory\n",
    "my_file = open(file_path)\n",
    "file_contents = my_file.read().splitlines()\n",
    "\n",
    "# Convert file contents from strings to int and convert map object to list.\n",
    "dates_list = list(map(int, file_contents))\n",
    "dates_list.sort()\n",
    "\n",
    "# make a copy of the list:\n",
    "dates_copy = dates_list.copy()\n",
    "dates_copy.reverse()\n",
    "\n",
    "#loop through both lists, looking for a sum = 2020\n",
    "def find_sum(dates_list, dates_copy):\n",
    "    sum_found = False\n",
    "    while sum_found == False:\n",
    "        for number in dates_list:\n",
    "            for number_2 in dates_copy:\n",
    "                sum = number + number_2\n",
    "                if sum != 2020:\n",
    "                    continue\n",
    "                else:\n",
    "                    multiply = number * number_2\n",
    "                    sum_found = False\n",
    "                    return multiply\n",
    "                \n",
    "total = find_sum(dates_list, dates_copy)      \n",
    "        \n"
   ]
  },
  {
   "cell_type": "code",
   "execution_count": 39,
   "id": "typical-scratch",
   "metadata": {},
   "outputs": [],
   "source": [
    "def three_number_sum(dates_list, dates_copy):\n",
    "    for num in dates_list:\n",
    "        for num_2 in dates_list:\n",
    "            if (2020 - (num + num_2) in dates_list:\n",
    "                print(num)\n",
    "                print(num_2)"
   ]
  },
  {
   "cell_type": "code",
   "execution_count": null,
   "id": "collected-press",
   "metadata": {},
   "outputs": [],
   "source": []
  }
 ],
 "metadata": {
  "kernelspec": {
   "display_name": "Python 3",
   "language": "python",
   "name": "python3"
  },
  "language_info": {
   "codemirror_mode": {
    "name": "ipython",
    "version": 3
   },
   "file_extension": ".py",
   "mimetype": "text/x-python",
   "name": "python",
   "nbconvert_exporter": "python",
   "pygments_lexer": "ipython3",
   "version": "3.8.5"
  }
 },
 "nbformat": 4,
 "nbformat_minor": 5
}
